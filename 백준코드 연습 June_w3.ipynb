{
 "cells": [
  {
   "cell_type": "markdown",
   "id": "9831efcb",
   "metadata": {},
   "source": [
    "### 31403번: $A + B - C$       Bronze IV"
   ]
  },
  {
   "cell_type": "code",
   "execution_count": 1,
   "id": "0f60010d",
   "metadata": {},
   "outputs": [
    {
     "name": "stdout",
     "output_type": "stream",
     "text": [
      "2\n",
      "29\n"
     ]
    }
   ],
   "source": [
    "a= input()\n",
    "b= input()\n",
    "c= input()\n",
    "\n",
    "print(int(a)+int(b)-int(c))\n",
    "\n",
    "ab= str(a)+str(b)\n",
    "ab= int(ab)\n",
    "\n",
    "print(ab-int(c))"
   ]
  },
  {
   "cell_type": "markdown",
   "id": "88f3cd85",
   "metadata": {},
   "source": [
    "### 10250번: ACM 호텔       Bronze III"
   ]
  },
  {
   "cell_type": "code",
   "execution_count": 2,
   "id": "5a811e60",
   "metadata": {},
   "outputs": [
    {
     "data": {
      "text/plain": [
       "1"
      ]
     },
     "execution_count": 2,
     "metadata": {},
     "output_type": "execute_result"
    }
   ],
   "source": [
    "r= 10//6\n",
    "r"
   ]
  },
  {
   "cell_type": "code",
   "execution_count": null,
   "id": "cd77fcee",
   "metadata": {},
   "outputs": [],
   "source": [
    "n= int(input())\n",
    "for i in range(n):\n",
    "    a= input()\n",
    "    a= a.split()\n",
    "    flr= int(a[2])%int(a[0])\n",
    "    rnm= 1+ int(a[2])//int(a[0])\n",
    "    \n",
    "    print(str(flr)+'0'+str(rnm))"
   ]
  },
  {
   "cell_type": "markdown",
   "id": "1d8efb7f",
   "metadata": {},
   "source": [
    "문제점:\n",
    "\n",
    "내 코드에서 틀린 이유\n",
    "\n",
    "나머지 연산 결과가 0일 때\n",
    "\n",
    "python\n",
    "복사\n",
    "편집\n",
    "flr = N % H\n",
    "rnm = 1 + N // H\n",
    "N이 H의 배수일 때 flr가 0이 되어야 하는 방은 없고, 실제로는 “H층”이 되어야 하는데 0층으로 처리된다.\n",
    "또 rnm은 이때 N//H가 정확한 호수인데, +1을 해 버려서 호수가 한 칸 더 늘어난다.\n",
    "\n",
    "호수 두 자리 맞춤(padding) 처리 오류\n",
    "무조건 ‘0’ + str(rnm) 으로 붙이기 때문에,\n",
    "\n",
    "호수가 한 자리일 때는 예: 5층 3호 → \"503\" (OK)\n",
    "\n",
    "호수가 두 자리일 때는 예: 5층 12호 → \"5012\" (잘못, \"512\"가 되어야)\n",
    "\n",
    "이 두 가지를 고쳐야 정답이 나옵니다."
   ]
  },
  {
   "cell_type": "markdown",
   "id": "94bf29a6",
   "metadata": {},
   "source": [
    "고쳐보자~"
   ]
  },
  {
   "cell_type": "markdown",
   "id": "5843ef24",
   "metadata": {},
   "source": []
  },
  {
   "cell_type": "code",
   "execution_count": 3,
   "id": "4902f593",
   "metadata": {},
   "outputs": [
    {
     "name": "stdout",
     "output_type": "stream",
     "text": [
      "402\n",
      "1203\n"
     ]
    }
   ],
   "source": [
    "n= int(input())\n",
    "for i in range(n):\n",
    "    a= input()\n",
    "    a= a.split()\n",
    "    '''\n",
    "    a[0] #몇 층까지 있는지\n",
    "    a[1] #몇 번째 방까지 있는지\n",
    "    a[2] #몇 번째 손님인지.\n",
    "    10/6=> 몫: 1, 나머지: 4\n",
    "    층수: 나머지\n",
    "    호수: 1에서 몫만큼 추가\n",
    "    '''\n",
    "    flr= int(a[2])%int(a[0])\n",
    "    rnm= 1+ int(a[2])//int(a[0])\n",
    "    if flr==0:\n",
    "        flr=a[2]\n",
    "        rnm= 1+ int(a[2])//int(a[0])\n",
    "    print(flr*100+rnm)"
   ]
  },
  {
   "cell_type": "code",
   "execution_count": null,
   "id": "3796b045",
   "metadata": {},
   "outputs": [],
   "source": [
    "n= int(input())\n",
    "for i in range(n):\n",
    "    a= input()\n",
    "    a= a.split()\n",
    "\n",
    "    flr= int(a[2])%int(a[0])\n",
    "    if flr==0:\n",
    "        flr=a[2]\n",
    "    rnm= 1+ int(a[2])//int(a[0])\n",
    "    if rnm < 10:\n",
    "        print(str(flr)+'0'+str(rnm))\n",
    "    else:\n",
    "        print(str(flr)+str(rnm))"
   ]
  },
  {
   "cell_type": "code",
   "execution_count": null,
   "id": "50d4c4c4",
   "metadata": {},
   "outputs": [
    {
     "name": "stdout",
     "output_type": "stream",
     "text": [
      "603\n"
     ]
    }
   ],
   "source": [
    "n= int(input())\n",
    "for i in range(n):\n",
    "    a= input()\n",
    "    a= a.split()\n",
    "    flr= int(a[2])%int(a[0])\n",
    "    rnm= 1+ int(a[2])//int(a[0])\n",
    "    # 딱 떨어지는 경우를 좀더 생각해 보자!\n",
    "    if flr==0:\n",
    "        flr=int(a[0])\n",
    "        rnm= int(a[2])//int(a[0])\n",
    "    print(flr*100+rnm)"
   ]
  },
  {
   "cell_type": "markdown",
   "id": "85e95217",
   "metadata": {},
   "source": [
    "## 문제 4153"
   ]
  },
  {
   "cell_type": "code",
   "execution_count": 22,
   "id": "2a76aaa0",
   "metadata": {},
   "outputs": [
    {
     "name": "stdout",
     "output_type": "stream",
     "text": [
      "right\n",
      "wrong\n",
      "right\n"
     ]
    }
   ],
   "source": [
    "while True:\n",
    "    a= input()\n",
    "    b= []\n",
    "    if a == '0 0 0': break\n",
    "    else:\n",
    "        a= a.split()\n",
    "        for nm in a:\n",
    "            b.append(int(nm))\n",
    "            b.sort()\n",
    "        if (b[0])**2+(b[1])**2== (b[2])**2:\n",
    "            print('right')\n",
    "        else: print('wrong')\n",
    "    "
   ]
  },
  {
   "cell_type": "markdown",
   "id": "bdc1c046",
   "metadata": {},
   "source": [
    "## 문제 30802"
   ]
  },
  {
   "cell_type": "code",
   "execution_count": 26,
   "id": "903ce32d",
   "metadata": {},
   "outputs": [
    {
     "name": "stdout",
     "output_type": "stream",
     "text": [
      "6\n"
     ]
    }
   ],
   "source": [
    "a= [1,2,3]\n",
    "print(sum(a))"
   ]
  },
  {
   "cell_type": "code",
   "execution_count": 31,
   "id": "f5510496",
   "metadata": {},
   "outputs": [
    {
     "data": {
      "text/plain": [
       "4"
      ]
     },
     "execution_count": 31,
     "metadata": {},
     "output_type": "execute_result"
    }
   ],
   "source": [
    "16//4"
   ]
  },
  {
   "cell_type": "code",
   "execution_count": 41,
   "id": "4bf4a6b0",
   "metadata": {},
   "outputs": [
    {
     "name": "stdout",
     "output_type": "stream",
     "text": [
      "7\n",
      "3 2\n"
     ]
    }
   ],
   "source": [
    "prsn = int(input())\n",
    "tsh= input()\n",
    "pr= input()\n",
    "\n",
    "tsh= tsh.split()\n",
    "pr= pr.split()\n",
    "\n",
    "tpr= int(pr[0]) #티셔츠 묶음 수\n",
    "ppr= int(pr[1]) #펜 묶음 수\n",
    "\n",
    "tnm=[]\n",
    "#== 티셔츠\n",
    "for sz in tsh:\n",
    "    if (int(sz)%tpr)==0:\n",
    "        T= (int(sz)//tpr)\n",
    "    else: T= (int(sz)//tpr)+1 #몫 + 1\n",
    "    tnm.append(T)\n",
    "\n",
    "#== 펜\n",
    "pnm_paired= prsn//ppr #최대 펜 묶음 수\n",
    "pnm_idv= prsn%ppr #개별 펜 묶음\n",
    "\n",
    "\n",
    "print(sum(tnm)) #T장씩 묶음 수\n",
    "print(f'{pnm_paired} {pnm_idv}')\n"
   ]
  },
  {
   "cell_type": "markdown",
   "id": "24c78dd1",
   "metadata": {},
   "source": [
    "## 문제 1978"
   ]
  },
  {
   "cell_type": "code",
   "execution_count": 64,
   "id": "06d419c9",
   "metadata": {},
   "outputs": [
    {
     "data": {
      "text/plain": [
       "2"
      ]
     },
     "execution_count": 64,
     "metadata": {},
     "output_type": "execute_result"
    }
   ],
   "source": [
    "5//2"
   ]
  },
  {
   "cell_type": "code",
   "execution_count": 83,
   "id": "986104fc",
   "metadata": {},
   "outputs": [
    {
     "name": "stdout",
     "output_type": "stream",
     "text": [
      "3\n"
     ]
    }
   ],
   "source": [
    "n= int(input())\n",
    "nmlist= input()\n",
    "nmlist= nmlist.split()\n",
    "\n",
    "#소수의 정의: 소인수분해 했을 때 1과 자기 자신 뿐. \n",
    "# 1000이하의 자연수..\n",
    "#소인수분해를 구성해보자.\n",
    "#->  2 또는 5로 나눴을 때 딱 떨어지지 않을 때, 2와 5는 제외\n",
    "\n",
    "cnt= 0\n",
    "#print(nmlist)\n",
    "for nm in nmlist:\n",
    "    if int(nm)== 1:\n",
    "    #    print(cnt)\n",
    "        continue      \n",
    "    elif ((int(nm) %2) !=0) and ((int(nm) %5) !=0) :\n",
    "        cnt+=1\n",
    "    #    print(cnt)\n",
    "    elif int(nm) ==2 or int(nm) ==5:\n",
    "        cnt+=1\n",
    "    #    print(cnt)\n",
    "print(cnt)"
   ]
  },
  {
   "cell_type": "code",
   "execution_count": null,
   "id": "6a279721",
   "metadata": {},
   "outputs": [
    {
     "name": "stdout",
     "output_type": "stream",
     "text": [
      "2\n",
      "[]\n",
      "1\n",
      "1\n"
     ]
    }
   ],
   "source": [
    "n= int(input())\n",
    "nmlist= input()\n",
    "nmlist= nmlist.split()\n",
    "\n",
    "#소수의 정의: 소인수분해 했을 때 1과 자기 자신 뿐.\n",
    "# 숫자가 주어졌을 때, 그 숫자보다 작은 걸로 나눠서 \n",
    "# %n== 0되는 게 있는지 찾아야겠다!\n",
    "# 주의: 입력값이 1일 때는 따로 봐줘야 하고, \n",
    "# 1로는 다 나눠지니까 for i in range(2, nm)으로 설정해야 한다.\n",
    "\n",
    "\n",
    "\n",
    "cnt= 0\n",
    "divlist= []\n",
    "#print(nmlist)\n",
    "for nm in nmlist:\n",
    "    nm= int(nm)\n",
    "    print(nm)\n",
    "    if int(nm)== 1:\n",
    "    #    print(cnt)\n",
    "        continue      \n",
    "    for i in range(2,nm):\n",
    "        divlist.append(i)\n",
    "    print(divlist)\n",
    "    if all((nm %k) !=0 for k in divlist):\n",
    "        cnt+=1\n",
    "    print(cnt)\n",
    "    divlist= []\n",
    "print(cnt)"
   ]
  },
  {
   "cell_type": "code",
   "execution_count": null,
   "id": "32237a3b",
   "metadata": {},
   "outputs": [
    {
     "name": "stdout",
     "output_type": "stream",
     "text": [
      "2\n",
      "[]\n",
      "1\n",
      "1\n"
     ]
    }
   ],
   "source": [
    "# 신기한 점: 입력값이 2일 때는 list에 아무 요소도 없는데, \n",
    "# all문에서 k로 뭘 받은 걸까? 확인해 보자!\n",
    "\n",
    "n= int(input())\n",
    "nmlist= input()\n",
    "nmlist= nmlist.split()\n",
    "\n",
    "#소수의 정의: 소인수분해 했을 때 1과 자기 자신 뿐.\n",
    "# 숫자가 주어졌을 때, 그 숫자보다 작은 걸로 나눠서 \n",
    "# %n== 0되는 게 있는지 찾아야겠다!\n",
    "# 주의: 입력값이 1일 때는 따로 봐줘야 하고, \n",
    "# 1로는 다 나눠지니까 for i in range(2, nm)으로 설정해야 한다.\n",
    "\n",
    "\n",
    "\n",
    "cnt= 0\n",
    "divlist= []\n",
    "#print(nmlist)\n",
    "for nm in nmlist:\n",
    "    nm= int(nm)\n",
    "    print(nm)\n",
    "    if int(nm)== 1:\n",
    "    #    print(cnt)\n",
    "        continue      \n",
    "    for i in range(2,nm):\n",
    "        divlist.append(i)\n",
    "    print(divlist)\n",
    "    if all((nm %k) !=0 for k in divlist):\n",
    "        cnt+=1\n",
    "    print(cnt)\n",
    "    divlist= []\n",
    "print(cnt)"
   ]
  },
  {
   "cell_type": "code",
   "execution_count": 97,
   "id": "2c74b496",
   "metadata": {},
   "outputs": [
    {
     "name": "stdout",
     "output_type": "stream",
     "text": [
      "0\n"
     ]
    }
   ],
   "source": [
    "n= int(input())\n",
    "nmlist= input()\n",
    "nmlist= nmlist.split()\n",
    "\n",
    "cnt= 0\n",
    "divlist= []\n",
    "for nm in nmlist:\n",
    "    nm= int(nm)\n",
    "    if int(nm)== 1:\n",
    "        continue      \n",
    "    for i in range(2,nm):\n",
    "        divlist.append(i)\n",
    "    if all((nm %k) !=0 for k in divlist):\n",
    "        cnt+=1\n",
    "    divlist= []\n",
    "print(cnt)"
   ]
  },
  {
   "cell_type": "markdown",
   "id": "81a997c8",
   "metadata": {},
   "source": [
    "## 문제 2231"
   ]
  },
  {
   "cell_type": "markdown",
   "id": "1404a1ea",
   "metadata": {},
   "source": [
    "자연수 N이 주어졌을 때, N의 가장 작은 생성자를 구해내는 프로그램을 작성하시오."
   ]
  },
  {
   "cell_type": "code",
   "execution_count": null,
   "id": "5df1f5eb",
   "metadata": {},
   "outputs": [],
   "source": [
    "n= input()\n",
    "\n",
    "a[0]+a[1]+a[2] + int(a) = n\n"
   ]
  },
  {
   "cell_type": "markdown",
   "id": "b16cc750",
   "metadata": {},
   "source": [
    "## 문제 2292"
   ]
  },
  {
   "cell_type": "markdown",
   "id": "c0b504cd",
   "metadata": {},
   "source": [
    "## 문제 2298"
   ]
  },
  {
   "cell_type": "markdown",
   "id": "aae8e8ce",
   "metadata": {},
   "source": [
    "## 문제 15829"
   ]
  },
  {
   "cell_type": "markdown",
   "id": "c6f67a00",
   "metadata": {},
   "source": [
    "## 문제 1259"
   ]
  },
  {
   "cell_type": "markdown",
   "id": "3c661f99",
   "metadata": {},
   "source": [
    "## 문제 2609"
   ]
  },
  {
   "cell_type": "markdown",
   "id": "7203dfcb",
   "metadata": {},
   "source": [
    "## 문제 2775"
   ]
  },
  {
   "cell_type": "markdown",
   "id": "ef39fe5e",
   "metadata": {},
   "source": [
    "## 문제 2869"
   ]
  },
  {
   "cell_type": "markdown",
   "id": "6d3c5e6d",
   "metadata": {},
   "source": [
    "## 문제 10989"
   ]
  },
  {
   "cell_type": "markdown",
   "id": "0f22d3fe",
   "metadata": {},
   "source": [
    "## 문제 11050"
   ]
  },
  {
   "cell_type": "markdown",
   "id": "68652198",
   "metadata": {},
   "source": [
    "## 문제 14626"
   ]
  },
  {
   "cell_type": "markdown",
   "id": "b7d33750",
   "metadata": {},
   "source": [
    "## 문제 28702"
   ]
  }
 ],
 "metadata": {
  "kernelspec": {
   "display_name": "base",
   "language": "python",
   "name": "python3"
  },
  "language_info": {
   "codemirror_mode": {
    "name": "ipython",
    "version": 3
   },
   "file_extension": ".py",
   "mimetype": "text/x-python",
   "name": "python",
   "nbconvert_exporter": "python",
   "pygments_lexer": "ipython3",
   "version": "3.10.9"
  }
 },
 "nbformat": 4,
 "nbformat_minor": 5
}
